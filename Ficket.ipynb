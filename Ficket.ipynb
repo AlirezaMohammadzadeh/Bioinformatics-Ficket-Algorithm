{
 "cells": [
  {
   "cell_type": "code",
   "execution_count": 1,
   "id": "e151cea7",
   "metadata": {},
   "outputs": [],
   "source": [
    "import regex as re\n",
    "import pandas as pd\n",
    "import numpy as np\n",
    "import matplotlib.pyplot as plt\n",
    "from tabulate import tabulate\n",
    "from sklearn.model_selection import train_test_split\n",
    "from sklearn.feature_extraction.text import CountVectorizer\n",
    "from sklearn.naive_bayes import MultinomialNB\n",
    "from sklearn.metrics import accuracy_score, classification_report\n",
    "from sklearn.preprocessing import LabelEncoder\n",
    "from sklearn.ensemble import RandomForestClassifier"
   ]
  },
  {
   "cell_type": "markdown",
   "id": "8c212f20",
   "metadata": {},
   "source": [
    "# Read and store databse"
   ]
  },
  {
   "cell_type": "code",
   "execution_count": 2,
   "id": "962b08f7",
   "metadata": {},
   "outputs": [
    {
     "name": "stdout",
     "output_type": "stream",
     "text": [
      "sample exon & intron positions\n",
      "[{'type': 'exon', 'start': 1960, 'end': 2580}, {'type': 'intron', 'start': 2581, 'end': 2655}, {'type': 'exon', 'start': 2656, 'end': 3030}, {'type': 'intron', 'start': 3031, 'end': 3108}, {'type': 'exon', 'start': 3109, 'end': 3255}] \n",
      "\n",
      "sample sequence:\n",
      "cccagatacaccgctgctttgtgggcaacaacgtctcgatgtcggtgccccttgagatccacgtcgcgctctgtgggaggagaaatgccgaaactgggcg\n"
     ]
    }
   ],
   "source": [
    "file_path = 'database/exon-intron-positions.txt'\n",
    "\n",
    "with open(file_path, 'r') as file:\n",
    "    file_contents = file.read()\n",
    "\n",
    "#Define a regular expression to find exon and intron in the text\n",
    "pattern = re.compile(r'\\b(exon|intron)\\s+(\\d+)\\.\\.(\\d+)')\n",
    "\n",
    "matches = pattern.findall(file_contents)\n",
    "\n",
    "positions_list = []\n",
    "\n",
    "for match in matches:\n",
    "    region_type, start, end = match\n",
    "    positions_list.append({'type': region_type, 'start': int(start), 'end': int(end)})\n",
    "\n",
    "#sample exon & intron positions\n",
    "print('sample exon & intron positions')\n",
    "print(positions_list[0:5],'\\n')\n",
    "\n",
    "file_path = 'database/genome.txt'\n",
    "with open(file_path, 'r') as file:\n",
    "    genome = file.read()\n",
    "\n",
    "# Define a regular expression to find numbers in the text\n",
    "cleaned_sequence = re.sub(r'[\\d\\s\\n]', '', genome)\n",
    "\n",
    "#sample sequence positions\n",
    "print('sample sequence:')\n",
    "print(cleaned_sequence[0:100])"
   ]
  },
  {
   "cell_type": "code",
   "execution_count": 3,
   "id": "bba678f7",
   "metadata": {},
   "outputs": [
    {
     "name": "stdout",
     "output_type": "stream",
     "text": [
      "     type                                           sequence\n",
      "0    exon  atgccggacgcgatggcctggtggaccgcctgctcgaccgacaacc...\n",
      "1  intron  gtaagtgcaaaatacgctctttacttccgctcattaggcgatgtct...\n",
      "2    exon  attgaagcaccgcttcccacctggctcaagacaacatcttcggacg...\n",
      "3  intron  gtgagtcttccgtggccggaggtttggtagtcaggtacgtgacatt...\n",
      "4    exon  gagatgatattacacagtatcagagagaacggagctggtgatgttc...\n"
     ]
    }
   ],
   "source": [
    "def find_elements_in_string(sequence, elements):\n",
    "    result = []\n",
    "    for element in elements:\n",
    "        start = element['start']\n",
    "        end = element['end']\n",
    "        element_type = element['type']\n",
    "        sequence_slice = sequence[start-1:end]  # Adjusting for 0-based indexing in Python\n",
    "\n",
    "        result.append({'type': element_type, 'sequence': sequence_slice})\n",
    "\n",
    "    return result\n",
    "result_data = find_elements_in_string(cleaned_sequence,positions_list)\n",
    "df = pd.DataFrame(result_data)\n",
    "print(df.head())"
   ]
  },
  {
   "cell_type": "markdown",
   "id": "8ea32a36",
   "metadata": {},
   "source": [
    "# Create Train & Test datasets"
   ]
  },
  {
   "cell_type": "code",
   "execution_count": 4,
   "id": "9f205f67",
   "metadata": {},
   "outputs": [],
   "source": [
    "split_ratio = 0.8\n",
    "total_rows = df.shape[0]\n",
    "split_index = int(split_ratio * total_rows)\n",
    "indices = np.random.permutation(total_rows)\n",
    "train_indices = indices[:split_index]\n",
    "test_indices = indices[split_index:]\n",
    "df_train = df.iloc[train_indices]\n",
    "df_test = df.iloc[test_indices]"
   ]
  },
  {
   "cell_type": "code",
   "execution_count": 5,
   "id": "c06ec3ac",
   "metadata": {},
   "outputs": [
    {
     "data": {
      "image/png": "[encoded data removed]",
      "text/plain": [
       "<Figure size 640x480 with 1 Axes>"
      ]
     },
     "metadata": {},
     "output_type": "display_data"
    },
    {
     "name": "stdout",
     "output_type": "stream",
     "text": [
      "exon      372\n",
      "intron    279\n",
      "Name: type, dtype: int64\n"
     ]
    }
   ],
   "source": [
    "# Count the occurrences of each 'type'\n",
    "type_counts = df_train['type'].value_counts()\n",
    "\n",
    "# Plotting\n",
    "plt.bar(type_counts.index, type_counts.values, color=['blue', 'orange'])\n",
    "plt.xlabel('Type')\n",
    "plt.ylabel('Count')\n",
    "plt.title('Count of Exons and Introns')\n",
    "plt.show()\n",
    "print(type_counts)\n"
   ]
  },
  {
   "cell_type": "markdown",
   "id": "bc688ffd",
   "metadata": {},
   "source": [
    "# Caculating X-Contet and X-Positions"
   ]
  },
  {
   "cell_type": "code",
   "execution_count": 6,
   "id": "afe24304",
   "metadata": {},
   "outputs": [
    {
     "name": "stdout",
     "output_type": "stream",
     "text": [
      "     type  A-Position  C-Position  G-Position  T-Position  A-Content  \\\n",
      "0  intron   13.000000    6.000000    1.800000    3.000000   0.282051   \n",
      "1    exon    1.421053    1.564885    1.315152    1.225490   0.225414   \n",
      "2  intron    2.250000    1.111111    1.000000    1.666667   0.207317   \n",
      "3  intron    2.500000    1.750000    1.625000    2.200000   0.231707   \n",
      "4  intron    1.800000    1.200000    1.500000    1.500000   0.268657   \n",
      "\n",
      "   C-Content  G-Content  T-Content  \n",
      "0   0.358974   0.230769   0.128205  \n",
      "1   0.267403   0.320994   0.186188  \n",
      "2   0.329268   0.170732   0.292683  \n",
      "3   0.182927   0.341463   0.243902  \n",
      "4   0.238806   0.194030   0.298507  \n"
     ]
    }
   ],
   "source": [
    "def calculate_parameters(df):\n",
    "    result=[]\n",
    "    for index, row in df.iterrows():\n",
    "        counters = {\n",
    "          'A1': 0, 'A2': 0, 'A3': 0,\n",
    "          'C1': 0, 'C2': 0, 'C3': 0,\n",
    "          'G1': 0, 'G2': 0, 'G3': 0,\n",
    "          'T1': 0, 'T2': 0, 'T3': 0}\n",
    "        \n",
    "        sequence_type = row['type']\n",
    "        sequence = row['sequence']\n",
    "        n= len(sequence)\n",
    "        \n",
    "        #update counters\n",
    "        for i in range(len(sequence)):\n",
    "            position_modulo_3 = i % 3\n",
    "            nucleotide = sequence[i]\n",
    "            counters[f\"{nucleotide.upper()}{position_modulo_3 + 1}\"] += 1\n",
    "            \n",
    "        # Calculate X-positions\n",
    "        A_Position = max(counters['A1'], counters['A2'], counters['A3']) / (min(counters['A1'], counters['A2'], counters['A3']) + 1)\n",
    "        C_Position = max(counters['C1'], counters['C2'], counters['C3']) / (min(counters['C1'], counters['C2'], counters['C3']) + 1)\n",
    "        G_Position = max(counters['G1'], counters['G2'], counters['G3']) / (min(counters['G1'], counters['G2'], counters['G3']) + 1)\n",
    "        T_Position = max(counters['T1'], counters['T2'], counters['T3']) / (min(counters['T1'], counters['T2'], counters['T3']) + 1)\n",
    "        \n",
    "        #caculate X-Contents\n",
    "        A_Content = sum(counters[f'A{i}'] for i in range(1, 4))/n\n",
    "        C_Content = sum(counters[f'C{i}'] for i in range(1, 4))/n\n",
    "        G_Content = sum(counters[f'G{i}'] for i in range(1, 4))/n\n",
    "        T_Content = sum(counters[f'T{i}'] for i in range(1, 4))/n\n",
    "        \n",
    "        result.append({\n",
    "                        'type': sequence_type,\n",
    "                        'A-Position':  A_Position,\n",
    "                        'C-Position':  C_Position,\n",
    "                        'G-Position' : G_Position,\n",
    "                        'T-Position' : T_Position,\n",
    "                        'A-Content' : A_Content,\n",
    "                        'C-Content' : C_Content,\n",
    "                        'G-Content' : G_Content,\n",
    "                        'T-Content' : T_Content\n",
    "                      })\n",
    "    return result\n",
    "\n",
    "result = calculate_parameters(df_train)\n",
    "df_parameters_train = pd.DataFrame(result)\n",
    "print(df_parameters_train.head())\n"
   ]
  },
  {
   "cell_type": "code",
   "execution_count": 7,
   "id": "1b5ece48",
   "metadata": {},
   "outputs": [],
   "source": [
    "def calculate_probability(df, parameter):\n",
    "    max_value = df[parameter].max()\n",
    "    min_value = df[parameter].min()\n",
    "    part = (max_value-min_value)/10\n",
    "\n",
    "    if 'Content' in parameter:\n",
    "        bins = [0.00, 0.1, 0.2, 0.3, 0.4, 0.5, 0.6, 0.7, 0.8, 0.9, 0.95]\n",
    "    elif 'Position' in parameter:\n",
    "        bins = [min_value]\n",
    "        i = min_value\n",
    "    \n",
    "        while i<max_value:\n",
    "            i = i+part\n",
    "            bins.append(i)\n",
    "    \n",
    "    df_exon = df[df['type'] == 'exon']\n",
    "    df_intron = df[df['type']=='intron']\n",
    "\n",
    "    hist_exon, _ = pd.cut(df_exon[parameter], bins=bins, include_lowest=True, right=True, retbins=True)\n",
    "    hist_intron,_ = pd.cut(df_intron[parameter], bins=bins, include_lowest=True, right=True, retbins=True)\n",
    "    \n",
    "    total = hist_exon.value_counts(normalize=True).sort_index()+hist_intron.value_counts(normalize=True).sort_index()\n",
    "    probability_exon = hist_exon.value_counts(normalize=True).sort_index()/total\n",
    "    \n",
    "    return probability_exon\n",
    "\n",
    "parameter_distribution = {}\n",
    "\n",
    "for param in df_parameters_train.columns[1:]:\n",
    "    probability_exon = calculate_probability(df_parameters_train, param)\n",
    "    bins = [round(b.left, 2) for b in probability_exon.index]\n",
    "    parameter_distribution[param] = probability_exon\n",
    "\n"
   ]
  },
  {
   "cell_type": "markdown",
   "id": "bb17bba3",
   "metadata": {},
   "source": [
    "# Caculate weights for each parameter"
   ]
  },
  {
   "cell_type": "code",
   "execution_count": 8,
   "id": "e73a35e2",
   "metadata": {},
   "outputs": [
    {
     "name": "stdout",
     "output_type": "stream",
     "text": [
      "{'A-Position': 4.155844833333333, 'C-Position': 3.2161646666666663, 'G-Position': 4.95538625, 'T-Position': 2.0909608333333334, 'A-Content': 0.3039118333333333, 'C-Content': 0.22518800000000003, 'G-Content': 0.28477025, 'T-Content': 0.22867699999999996}\n"
     ]
    }
   ],
   "source": [
    "def calculate_average_for_high_probability_bins(parameter_distribution):\n",
    "    weighted_averages = {}\n",
    "    \n",
    "    for parameter, distribution in parameter_distribution.items():\n",
    "        sum_values = 0\n",
    "        count = 0\n",
    "        param_dis_str = str(distribution)\n",
    "        values = re.findall(r'\\b\\d+\\.\\d+\\b', param_dis_str)\n",
    "        \n",
    "        for i, value in enumerate(values):\n",
    "            if i % 3 == 2 and float(value) > 0.50:\n",
    "                sum_values += float(value)-0.50\n",
    "                count += 1\n",
    "    \n",
    "        avg = sum_values / count if count > 0 else 0.0\n",
    "        weighted_averages[parameter] = avg\n",
    "    \n",
    "    return weighted_averages\n",
    "\n",
    "weighted_averages = calculate_average_for_high_probability_bins(parameter_distribution)\n",
    "print(weighted_averages)"
   ]
  },
  {
   "cell_type": "code",
   "execution_count": 9,
   "id": "68e5fdd8",
   "metadata": {},
   "outputs": [
    {
     "name": "stdout",
     "output_type": "stream",
     "text": [
      "Parameter: A-Position\n",
      "+---------------+---------------------+\n",
      "|      Bin      | Probability of Exon |\n",
      "+---------------+---------------------+\n",
      "|  0.8 - 2.12   |       0.5162        |\n",
      "|  2.12 - 3.44  |       0.4483        |\n",
      "|  3.44 - 4.76  |       0.4286        |\n",
      "|  4.76 - 6.08  |       0.4839        |\n",
      "|  6.08 - 7.4   |       0.5294        |\n",
      "|  7.4 - 8.72   |         1.0         |\n",
      "| 8.72 - 10.04  |       0.5294        |\n",
      "| 10.04 - 11.36 |         nan         |\n",
      "| 11.36 - 12.68 |         nan         |\n",
      "| 12.68 - 14.0  |         0.0         |\n",
      "+---------------+---------------------+\n",
      "\n",
      "Parameter: C-Position\n",
      "+------------+---------------------+\n",
      "|    Bin     | Probability of Exon |\n",
      "+------------+---------------------+\n",
      "| -0.0 - 0.8 |        0.75         |\n",
      "| 0.8 - 1.6  |        0.547        |\n",
      "| 1.6 - 2.4  |       0.4737        |\n",
      "| 2.4 - 3.2  |       0.3684        |\n",
      "| 3.2 - 4.0  |       0.3043        |\n",
      "| 4.0 - 4.8  |       0.1765        |\n",
      "| 4.8 - 5.6  |         nan         |\n",
      "| 5.6 - 6.4  |         0.6         |\n",
      "| 6.4 - 7.2  |         nan         |\n",
      "| 7.2 - 8.0  |         nan         |\n",
      "| 8.0 - 8.8  |         1.0         |\n",
      "+------------+---------------------+\n",
      "\n",
      "Parameter: G-Position\n",
      "+-------------+---------------------+\n",
      "|     Bin     | Probability of Exon |\n",
      "+-------------+---------------------+\n",
      "| -0.0 - 1.3  |       0.5194        |\n",
      "|  1.3 - 2.6  |       0.5021        |\n",
      "|  2.6 - 3.9  |       0.4576        |\n",
      "|  3.9 - 5.2  |       0.4615        |\n",
      "|  5.2 - 6.5  |       0.4286        |\n",
      "|  6.5 - 7.8  |         0.0         |\n",
      "|  7.8 - 9.1  |         nan         |\n",
      "| 9.1 - 10.4  |         nan         |\n",
      "| 10.4 - 11.7 |         nan         |\n",
      "| 11.7 - 13.0 |         0.0         |\n",
      "+-------------+---------------------+\n",
      "\n",
      "Parameter: T-Position\n",
      "+-------------+---------------------+\n",
      "|     Bin     | Probability of Exon |\n",
      "+-------------+---------------------+\n",
      "| -0.0 - 1.3  |       0.5108        |\n",
      "|  1.3 - 2.6  |       0.4966        |\n",
      "|  2.6 - 3.9  |       0.4462        |\n",
      "|  3.9 - 5.2  |       0.5455        |\n",
      "|  5.2 - 6.5  |       0.7895        |\n",
      "|  6.5 - 7.8  |         0.0         |\n",
      "|  7.8 - 9.1  |         1.0         |\n",
      "| 9.1 - 10.4  |         1.0         |\n",
      "| 10.4 - 11.7 |         nan         |\n",
      "| 11.7 - 13.0 |         0.0         |\n",
      "+-------------+---------------------+\n",
      "\n",
      "Parameter: A-Content\n",
      "+------------+---------------------+\n",
      "|    Bin     | Probability of Exon |\n",
      "+------------+---------------------+\n",
      "| -0.0 - 0.1 |       0.5556        |\n",
      "| 0.1 - 0.2  |       0.4899        |\n",
      "| 0.2 - 0.3  |       0.5179        |\n",
      "| 0.3 - 0.4  |        0.375        |\n",
      "| 0.4 - 0.5  |         1.0         |\n",
      "| 0.5 - 0.6  |         0.0         |\n",
      "| 0.6 - 0.7  |         1.0         |\n",
      "| 0.7 - 0.8  |         nan         |\n",
      "| 0.8 - 0.9  |         nan         |\n",
      "| 0.9 - 0.95 |         nan         |\n",
      "+------------+---------------------+\n",
      "\n",
      "Parameter: C-Content\n",
      "+------------+---------------------+\n",
      "|    Bin     | Probability of Exon |\n",
      "+------------+---------------------+\n",
      "| -0.0 - 0.1 |         1.0         |\n",
      "| 0.1 - 0.2  |       0.3559        |\n",
      "| 0.2 - 0.3  |       0.5143        |\n",
      "| 0.3 - 0.4  |       0.5368        |\n",
      "| 0.4 - 0.5  |       0.3818        |\n",
      "| 0.5 - 0.6  |         nan         |\n",
      "| 0.6 - 0.7  |         nan         |\n",
      "| 0.7 - 0.8  |         nan         |\n",
      "| 0.8 - 0.9  |         nan         |\n",
      "| 0.9 - 0.95 |         nan         |\n",
      "+------------+---------------------+\n",
      "\n",
      "Parameter: G-Content\n",
      "+------------+---------------------+\n",
      "|    Bin     | Probability of Exon |\n",
      "+------------+---------------------+\n",
      "| -0.0 - 0.1 |       0.2308        |\n",
      "| 0.1 - 0.2  |       0.4065        |\n",
      "| 0.2 - 0.3  |       0.5391        |\n",
      "| 0.3 - 0.4  |       0.4798        |\n",
      "| 0.4 - 0.5  |        0.45         |\n",
      "| 0.5 - 0.6  |         1.0         |\n",
      "| 0.6 - 0.7  |         nan         |\n",
      "| 0.7 - 0.8  |         nan         |\n",
      "| 0.8 - 0.9  |         nan         |\n",
      "| 0.9 - 0.95 |         nan         |\n",
      "+------------+---------------------+\n",
      "\n",
      "Parameter: T-Content\n",
      "+------------+---------------------+\n",
      "|    Bin     | Probability of Exon |\n",
      "+------------+---------------------+\n",
      "| -0.0 - 0.1 |       0.6667        |\n",
      "| 0.1 - 0.2  |       0.4727        |\n",
      "| 0.2 - 0.3  |       0.5267        |\n",
      "| 0.3 - 0.4  |       0.3982        |\n",
      "| 0.4 - 0.5  |         nan         |\n",
      "| 0.5 - 0.6  |         nan         |\n",
      "| 0.6 - 0.7  |         nan         |\n",
      "| 0.7 - 0.8  |         nan         |\n",
      "| 0.8 - 0.9  |         nan         |\n",
      "| 0.9 - 0.95 |         nan         |\n",
      "+------------+---------------------+\n",
      "\n"
     ]
    }
   ],
   "source": [
    "for param, probability in parameter_distribution.items():\n",
    "    table = {'Bin': [f'{round(b.left, 2)} - {round(b.right, 2)}' for b in probability.index],\n",
    "             'Probability of Exon': [round(p, 4) for p in probability.values]}\n",
    "    print(f\"Parameter: {param}\")\n",
    "    print(tabulate(table, headers='keys', tablefmt='pretty'))\n",
    "    print()"
   ]
  },
  {
   "cell_type": "markdown",
   "id": "31cc5a40",
   "metadata": {},
   "source": [
    "# Caculating TESTCODE for train dataset"
   ]
  },
  {
   "cell_type": "code",
   "execution_count": 10,
   "id": "0438e3cf",
   "metadata": {},
   "outputs": [
    {
     "name": "stdout",
     "output_type": "stream",
     "text": [
      "   test_code    type\n",
      "0   5.890644  intron\n",
      "1   7.978868    exon\n",
      "2   7.748955  intron\n",
      "3   7.407492  intron\n",
      "4   7.940495  intron\n"
     ]
    }
   ],
   "source": [
    "test_code_dic_train = []\n",
    "for index,row in df_parameters_train.iterrows():\n",
    "    test_code = 0\n",
    "    for col in df_parameters_train.columns[1:]:\n",
    "        parameter = col\n",
    "        value_parameter = row[col]\n",
    "        # Find the corresponding value in bins\n",
    "        for bin_str, bin_value in parameter_distribution[parameter].items():\n",
    "            if value_parameter in bin_str:\n",
    "                p = bin_value\n",
    "                break\n",
    "        #Find the corresponding value in weights\n",
    "        w = weighted_averages[parameter]\n",
    "        #Update test code\n",
    "        test_code += w*p\n",
    "    #Update test code dictionary\n",
    "    test_code_dic_train.append({'test_code': test_code, 'type': row[0]})\n",
    "\n",
    "test_code_df_tarin = pd.DataFrame(test_code_dic_train)\n",
    "print(test_code_df_tarin.head())"
   ]
  },
  {
   "cell_type": "code",
   "execution_count": 11,
   "id": "9669513a",
   "metadata": {},
   "outputs": [
    {
     "name": "stdout",
     "output_type": "stream",
     "text": [
      "                probability of coding\n",
      "(4.619, 5.135]               0.000000\n",
      "(5.135, 5.65]                0.000000\n",
      "(5.65, 6.165]                0.000000\n",
      "(6.165, 6.679]               0.200431\n",
      "(6.679, 7.194]               0.387736\n",
      "(7.194, 7.709]               0.394007\n",
      "(7.709, 8.224]               0.559403\n",
      "(8.224, 8.739]               0.840361\n",
      "(8.739, 9.253]               1.000000\n",
      "(9.253, 9.768]               1.000000\n"
     ]
    }
   ],
   "source": [
    "def calculate_probability_test_code(df, test_code):\n",
    "    max_value = df[test_code].max()\n",
    "    min_value = df[test_code].min()\n",
    "    part = (max_value-min_value)/10\n",
    "    \n",
    "    bins = [min_value]\n",
    "    i = min_value\n",
    "    \n",
    "    while i<max_value:\n",
    "        i = i+part\n",
    "        bins.append(i)\n",
    "    \n",
    "    df_exon = df[df['type'] == 'exon']\n",
    "    df_intron = df[df['type']=='intron']\n",
    "\n",
    "    hist_exon, _ = pd.cut(df_exon[test_code], bins=bins, include_lowest=True, right=True, retbins=True)\n",
    "    hist_intron,_ = pd.cut(df_intron[test_code], bins=bins, include_lowest=True, right=True, retbins=True)\n",
    "    \n",
    "    total = hist_exon.value_counts(normalize=True).sort_index()+hist_intron.value_counts(normalize=True).sort_index()\n",
    "    probability_exon = hist_exon.value_counts(normalize=True).sort_index()/total\n",
    "\n",
    "    return probability_exon\n",
    "\n",
    "probability_test_code = calculate_probability_test_code(test_code_df_tarin, 'test_code')\n",
    "\n",
    "probability_test_code_df = pd.DataFrame(probability_test_code)\n",
    "probability_test_code_df = probability_test_code_df.rename(columns={'test_code': 'probability of coding'})\n",
    "print(probability_test_code_df)"
   ]
  },
  {
   "cell_type": "code",
   "execution_count": 12,
   "id": "263f189b",
   "metadata": {},
   "outputs": [
    {
     "name": "stdout",
     "output_type": "stream",
     "text": [
      "                probability of coding  Prediction\n",
      "(4.619, 5.135]               0.000000      intron\n",
      "(5.135, 5.65]                0.000000      intron\n",
      "(5.65, 6.165]                0.000000      intron\n",
      "(6.165, 6.679]               0.200431      intron\n",
      "(6.679, 7.194]               0.387736      intron\n",
      "(7.194, 7.709]               0.394007      intron\n",
      "(7.709, 8.224]               0.559403  No Opinion\n",
      "(8.224, 8.739]               0.840361        exon\n",
      "(8.739, 9.253]               1.000000        exon\n",
      "(9.253, 9.768]               1.000000        exon\n"
     ]
    }
   ],
   "source": [
    "def decide_coding(df):\n",
    "    df['Prediction'] = 0\n",
    "    for index,row in df.iterrows():\n",
    "        probability_of_coding = float(row['probability of coding'])\n",
    "        \n",
    "        if probability_of_coding>0.60:\n",
    "            df.at[index, 'Prediction'] = 'exon'\n",
    "        elif probability_of_coding<0.40:\n",
    "            df.at[index, 'Prediction'] = 'intron'\n",
    "        else:\n",
    "            df.at[index, 'Prediction'] = 'No Opinion'\n",
    "    return df\n",
    "\n",
    "decide_coding = decide_coding(probability_test_code_df)\n",
    "print(decide_coding)"
   ]
  },
  {
   "cell_type": "markdown",
   "id": "3c9aa025",
   "metadata": {},
   "source": [
    "# Test "
   ]
  },
  {
   "cell_type": "code",
   "execution_count": 13,
   "id": "a1287728",
   "metadata": {},
   "outputs": [
    {
     "name": "stdout",
     "output_type": "stream",
     "text": [
      "     type  A-Position  C-Position  G-Position  T-Position  A-Content  \\\n",
      "0    exon    2.000000    1.403509    2.166667    1.368421   0.248711   \n",
      "1    exon    2.391304    1.630435    1.140000    1.022727   0.216080   \n",
      "2    exon    6.000000    1.888889    1.375000    1.500000   0.217391   \n",
      "3  intron    2.250000    2.000000    1.400000    2.000000   0.225352   \n",
      "4    exon    1.625000    1.230769    1.400000    1.166667   0.224490   \n",
      "\n",
      "   C-Content  G-Content  T-Content  \n",
      "0   0.266753   0.304124   0.180412  \n",
      "1   0.293132   0.271357   0.219430  \n",
      "2   0.422360   0.173913   0.186335  \n",
      "3   0.309859   0.225352   0.239437  \n",
      "4   0.282313   0.241497   0.251701  \n"
     ]
    }
   ],
   "source": [
    "result = calculate_parameters(df_test)\n",
    "df_parameters_test = pd.DataFrame(result)\n",
    "print(df_parameters_test.head())\n"
   ]
  },
  {
   "cell_type": "markdown",
   "id": "1843abad",
   "metadata": {},
   "source": [
    "## Caculating TestCode for test dataset"
   ]
  },
  {
   "cell_type": "code",
   "execution_count": 14,
   "id": "c0cc0ab0",
   "metadata": {},
   "outputs": [
    {
     "name": "stdout",
     "output_type": "stream",
     "text": [
      "   test_code    type\n",
      "0   5.890644  intron\n",
      "1   7.978868    exon\n",
      "2   7.748955  intron\n",
      "3   7.407492  intron\n",
      "4   7.940495  intron\n"
     ]
    }
   ],
   "source": [
    "test_code_dic_test = []\n",
    "for index,row in df_parameters_train.iterrows():\n",
    "    test_code = 0\n",
    "    for col in df_parameters_train.columns[1:]:\n",
    "        parameter = col\n",
    "        value_parameter = row[col]\n",
    "        # Find the corresponding value in bins\n",
    "        for bin_str, bin_value in parameter_distribution[parameter].items():\n",
    "            if value_parameter in bin_str:\n",
    "                p = bin_value\n",
    "                break\n",
    "        #Find the corresponding value in weights\n",
    "        w = weighted_averages[parameter]\n",
    "        #Update test code\n",
    "        test_code += w*p\n",
    "    #Update test code dictionary\n",
    "    test_code_dic_test.append({'test_code': test_code, 'type': row[0]})\n",
    "\n",
    "test_code_df_test = pd.DataFrame(test_code_dic_train)\n",
    "print(test_code_df_test.head())"
   ]
  },
  {
   "cell_type": "code",
   "execution_count": 15,
   "id": "17399cdf",
   "metadata": {},
   "outputs": [],
   "source": [
    "def evaluate_model(df):\n",
    "    \n",
    "    df['prediction'] = 0\n",
    "    for index,row in df.iterrows():\n",
    "        test_code = row['test_code']\n",
    "        \n",
    "        for bin_range, row2 in decide_coding.iterrows():\n",
    "            if bin_range.left < test_code <= bin_range.right:\n",
    "                df.at[index, 'prediction'] = row2['Prediction']\n",
    "                break\n",
    "    return df\n",
    "\n",
    "prediction_df_test = evaluate_model(test_code_df_test)"
   ]
  },
  {
   "cell_type": "code",
   "execution_count": 16,
   "id": "0bd3ad8e",
   "metadata": {},
   "outputs": [
    {
     "name": "stdout",
     "output_type": "stream",
     "text": [
      "error : 0.43\n",
      "percentage of No Opinion : 0.64\n"
     ]
    }
   ],
   "source": [
    "matching_rows = prediction_df_test[prediction_df_test['type'] == prediction_df_test['prediction']]\n",
    "not_matching_rows = prediction_df_test[(prediction_df_test['type'] != prediction_df_test['prediction']) & (prediction_df_test['prediction'] != 'No Opinion')]\n",
    "no_opinion = prediction_df_test[prediction_df_test['prediction'] == 'No Opinion']\n",
    "\n",
    "num_matches = len(matching_rows)\n",
    "num_non_matches = len(not_matching_rows)\n",
    "total_predicted = num_matches+num_non_matches\n",
    "total = len(prediction_df_test)\n",
    "num_no_opnion = len(no_opinion)\n",
    "\n",
    "error = num_non_matches/total_predicted\n",
    "percentage_no_opnion = num_no_opnion/total \n",
    "\n",
    "print(f'error : {error:.2f}')\n",
    "print(f'percentage of No Opinion : {percentage_no_opnion:.2f}')"
   ]
  },
  {
   "cell_type": "markdown",
   "id": "8013f0b5",
   "metadata": {},
   "source": [
    "# Sample Machine Learning Model"
   ]
  },
  {
   "cell_type": "code",
   "execution_count": 17,
   "id": "92a81470",
   "metadata": {},
   "outputs": [
    {
     "name": "stdout",
     "output_type": "stream",
     "text": [
      "Accuracy: 0.54\n",
      "              precision    recall  f1-score   support\n",
      "\n",
      "           0       0.60      0.57      0.59       465\n",
      "           1       0.46      0.49      0.47       349\n",
      "\n",
      "    accuracy                           0.54       814\n",
      "   macro avg       0.53      0.53      0.53       814\n",
      "weighted avg       0.54      0.54      0.54       814\n",
      "\n"
     ]
    }
   ],
   "source": [
    "label_encoder = LabelEncoder()\n",
    "df['label'] = label_encoder.fit_transform(df['type'])\n",
    "\n",
    "vectorizer = CountVectorizer(analyzer='char', ngram_range=(1, 2))\n",
    "X = vectorizer.fit_transform(df['sequence'])\n",
    "\n",
    "X_train, X_test, y_train, y_test = train_test_split(X, df['label'], test_size=0.2, random_state=42)\n",
    "\n",
    "classifier = MultinomialNB()\n",
    "\n",
    "classifier.fit(X_train, y_train)\n",
    "\n",
    "y_pred = classifier.predict(X_test)\n",
    "\n",
    "y_pred_labels = label_encoder.inverse_transform(y_pred)\n",
    "\n",
    "accuracy = accuracy_score(df['label'], classifier.predict(X))\n",
    "report = classification_report(df['label'], classifier.predict(X))\n",
    "\n",
    "print(f'Accuracy: {accuracy:.2f}')\n",
    "print(report)"
   ]
  }
 ],
 "metadata": {
  "kernelspec": {
   "display_name": "Python 3 (ipykernel)",
   "language": "python",
   "name": "python3"
  },
  "language_info": {
   "codemirror_mode": {
    "name": "ipython",
    "version": 3
   },
   "file_extension": ".py",
   "mimetype": "text/x-python",
   "name": "python",
   "nbconvert_exporter": "python",
   "pygments_lexer": "ipython3",
   "version": "3.10.9"
  }
 },
 "nbformat": 4,
 "nbformat_minor": 5
}
